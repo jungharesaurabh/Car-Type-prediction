{
 "cells": [
  {
   "cell_type": "code",
   "execution_count": 94,
   "id": "518c76a7",
   "metadata": {},
   "outputs": [],
   "source": [
    "from warnings import filterwarnings\n",
    "filterwarnings(\"ignore\")"
   ]
  },
  {
   "cell_type": "markdown",
   "id": "badb281f",
   "metadata": {},
   "source": [
    "# Read the dataset"
   ]
  },
  {
   "cell_type": "code",
   "execution_count": 95,
   "id": "8f4b3980",
   "metadata": {},
   "outputs": [],
   "source": [
    "from pandas import read_csv\n",
    "A = read_csv(\"C:/Users/Sourabh/Downloads/Cars93.csv\")"
   ]
  },
  {
   "cell_type": "code",
   "execution_count": 96,
   "id": "5d96efc3",
   "metadata": {},
   "outputs": [
    {
     "data": {
      "text/html": [
       "<div>\n",
       "<style scoped>\n",
       "    .dataframe tbody tr th:only-of-type {\n",
       "        vertical-align: middle;\n",
       "    }\n",
       "\n",
       "    .dataframe tbody tr th {\n",
       "        vertical-align: top;\n",
       "    }\n",
       "\n",
       "    .dataframe thead th {\n",
       "        text-align: right;\n",
       "    }\n",
       "</style>\n",
       "<table border=\"1\" class=\"dataframe\">\n",
       "  <thead>\n",
       "    <tr style=\"text-align: right;\">\n",
       "      <th></th>\n",
       "      <th>id</th>\n",
       "      <th>Manufacturer</th>\n",
       "      <th>Model</th>\n",
       "      <th>Type</th>\n",
       "      <th>Min.Price</th>\n",
       "      <th>Price</th>\n",
       "      <th>Max.Price</th>\n",
       "      <th>MPG.city</th>\n",
       "      <th>MPG.highway</th>\n",
       "      <th>AirBags</th>\n",
       "      <th>...</th>\n",
       "      <th>Passengers</th>\n",
       "      <th>Length</th>\n",
       "      <th>Wheelbase</th>\n",
       "      <th>Width</th>\n",
       "      <th>Turn.circle</th>\n",
       "      <th>Rear.seat.room</th>\n",
       "      <th>Luggage.room</th>\n",
       "      <th>Weight</th>\n",
       "      <th>Origin</th>\n",
       "      <th>Make</th>\n",
       "    </tr>\n",
       "  </thead>\n",
       "  <tbody>\n",
       "    <tr>\n",
       "      <th>0</th>\n",
       "      <td>1</td>\n",
       "      <td>Acura</td>\n",
       "      <td>Integra</td>\n",
       "      <td>Small</td>\n",
       "      <td>12.9</td>\n",
       "      <td>15.9</td>\n",
       "      <td>18.8</td>\n",
       "      <td>25</td>\n",
       "      <td>31</td>\n",
       "      <td>None</td>\n",
       "      <td>...</td>\n",
       "      <td>5</td>\n",
       "      <td>177</td>\n",
       "      <td>102</td>\n",
       "      <td>68</td>\n",
       "      <td>37</td>\n",
       "      <td>26.5</td>\n",
       "      <td>11.0</td>\n",
       "      <td>2705</td>\n",
       "      <td>non-USA</td>\n",
       "      <td>Acura Integra</td>\n",
       "    </tr>\n",
       "    <tr>\n",
       "      <th>1</th>\n",
       "      <td>2</td>\n",
       "      <td>Acura</td>\n",
       "      <td>Legend</td>\n",
       "      <td>Midsize</td>\n",
       "      <td>29.2</td>\n",
       "      <td>33.9</td>\n",
       "      <td>38.7</td>\n",
       "      <td>18</td>\n",
       "      <td>25</td>\n",
       "      <td>Driver &amp; Passenger</td>\n",
       "      <td>...</td>\n",
       "      <td>5</td>\n",
       "      <td>195</td>\n",
       "      <td>115</td>\n",
       "      <td>71</td>\n",
       "      <td>38</td>\n",
       "      <td>30.0</td>\n",
       "      <td>15.0</td>\n",
       "      <td>3560</td>\n",
       "      <td>non-USA</td>\n",
       "      <td>Acura Legend</td>\n",
       "    </tr>\n",
       "    <tr>\n",
       "      <th>2</th>\n",
       "      <td>3</td>\n",
       "      <td>Audi</td>\n",
       "      <td>90</td>\n",
       "      <td>Compact</td>\n",
       "      <td>25.9</td>\n",
       "      <td>29.1</td>\n",
       "      <td>32.3</td>\n",
       "      <td>20</td>\n",
       "      <td>26</td>\n",
       "      <td>Driver only</td>\n",
       "      <td>...</td>\n",
       "      <td>5</td>\n",
       "      <td>180</td>\n",
       "      <td>102</td>\n",
       "      <td>67</td>\n",
       "      <td>37</td>\n",
       "      <td>28.0</td>\n",
       "      <td>14.0</td>\n",
       "      <td>3375</td>\n",
       "      <td>non-USA</td>\n",
       "      <td>Audi 90</td>\n",
       "    </tr>\n",
       "    <tr>\n",
       "      <th>3</th>\n",
       "      <td>4</td>\n",
       "      <td>Audi</td>\n",
       "      <td>100</td>\n",
       "      <td>Midsize</td>\n",
       "      <td>30.8</td>\n",
       "      <td>37.7</td>\n",
       "      <td>44.6</td>\n",
       "      <td>19</td>\n",
       "      <td>26</td>\n",
       "      <td>NaN</td>\n",
       "      <td>...</td>\n",
       "      <td>6</td>\n",
       "      <td>193</td>\n",
       "      <td>106</td>\n",
       "      <td>70</td>\n",
       "      <td>37</td>\n",
       "      <td>31.0</td>\n",
       "      <td>17.0</td>\n",
       "      <td>3405</td>\n",
       "      <td>non-USA</td>\n",
       "      <td>Audi 100</td>\n",
       "    </tr>\n",
       "    <tr>\n",
       "      <th>4</th>\n",
       "      <td>5</td>\n",
       "      <td>BMW</td>\n",
       "      <td>535i</td>\n",
       "      <td>Midsize</td>\n",
       "      <td>23.7</td>\n",
       "      <td>30.0</td>\n",
       "      <td>36.2</td>\n",
       "      <td>22</td>\n",
       "      <td>30</td>\n",
       "      <td>Driver only</td>\n",
       "      <td>...</td>\n",
       "      <td>4</td>\n",
       "      <td>186</td>\n",
       "      <td>109</td>\n",
       "      <td>69</td>\n",
       "      <td>39</td>\n",
       "      <td>27.0</td>\n",
       "      <td>13.0</td>\n",
       "      <td>3640</td>\n",
       "      <td>non-USA</td>\n",
       "      <td>BMW 535i</td>\n",
       "    </tr>\n",
       "  </tbody>\n",
       "</table>\n",
       "<p>5 rows × 28 columns</p>\n",
       "</div>"
      ],
      "text/plain": [
       "   id Manufacturer    Model     Type  Min.Price  Price  Max.Price  MPG.city  \\\n",
       "0   1        Acura  Integra    Small       12.9   15.9       18.8        25   \n",
       "1   2        Acura   Legend  Midsize       29.2   33.9       38.7        18   \n",
       "2   3         Audi       90  Compact       25.9   29.1       32.3        20   \n",
       "3   4         Audi      100  Midsize       30.8   37.7       44.6        19   \n",
       "4   5          BMW     535i  Midsize       23.7   30.0       36.2        22   \n",
       "\n",
       "   MPG.highway             AirBags  ... Passengers Length  Wheelbase  Width  \\\n",
       "0           31                None  ...          5    177        102     68   \n",
       "1           25  Driver & Passenger  ...          5    195        115     71   \n",
       "2           26         Driver only  ...          5    180        102     67   \n",
       "3           26                 NaN  ...          6    193        106     70   \n",
       "4           30         Driver only  ...          4    186        109     69   \n",
       "\n",
       "   Turn.circle  Rear.seat.room Luggage.room  Weight   Origin           Make  \n",
       "0           37            26.5         11.0    2705  non-USA  Acura Integra  \n",
       "1           38            30.0         15.0    3560  non-USA   Acura Legend  \n",
       "2           37            28.0         14.0    3375  non-USA        Audi 90  \n",
       "3           37            31.0         17.0    3405  non-USA       Audi 100  \n",
       "4           39            27.0         13.0    3640  non-USA       BMW 535i  \n",
       "\n",
       "[5 rows x 28 columns]"
      ]
     },
     "execution_count": 96,
     "metadata": {},
     "output_type": "execute_result"
    }
   ],
   "source": [
    "A.head()"
   ]
  },
  {
   "cell_type": "markdown",
   "id": "b26ebed2",
   "metadata": {},
   "source": [
    "#  Replace Missing Data"
   ]
  },
  {
   "cell_type": "code",
   "execution_count": 97,
   "id": "96511d02",
   "metadata": {},
   "outputs": [],
   "source": [
    "def replacer(df):\n",
    "    import pandas as pd\n",
    "    Q = pd.DataFrame(df.isna().sum(),columns=[\"ct\"])\n",
    "    for i in Q[Q.ct > 0].index:\n",
    "        if(df[i].dtypes == \"object\"):\n",
    "            x = df[i].mode()[0]\n",
    "            df[i] = df[i].fillna(x)\n",
    "        else:\n",
    "            x = df[i].mean()\n",
    "            df[i] = df[i].fillna(x)\n",
    "            "
   ]
  },
  {
   "cell_type": "code",
   "execution_count": 98,
   "id": "84272f2b",
   "metadata": {},
   "outputs": [],
   "source": [
    "from PM8 import replacer\n",
    "replacer(A)"
   ]
  },
  {
   "cell_type": "markdown",
   "id": "822cd5ea",
   "metadata": {},
   "source": [
    "# Drop unnecessary columns"
   ]
  },
  {
   "cell_type": "code",
   "execution_count": 99,
   "id": "41e47499",
   "metadata": {},
   "outputs": [],
   "source": [
    "A = A.drop(labels=[\"id\",\"Make\",\"Manufacturer\",\"Model\"],axis=1)"
   ]
  },
  {
   "cell_type": "markdown",
   "id": "01b45f58",
   "metadata": {},
   "source": [
    "# Exploratory Data Analysis"
   ]
  },
  {
   "cell_type": "code",
   "execution_count": 100,
   "id": "05012238",
   "metadata": {},
   "outputs": [],
   "source": [
    "cat = []\n",
    "con = []\n",
    "for i in A.columns:\n",
    "    if(A[i].dtypes == \"object\"):\n",
    "        cat.append(i)\n",
    "    else:\n",
    "        con.append(i)"
   ]
  },
  {
   "cell_type": "code",
   "execution_count": 101,
   "id": "24306db4",
   "metadata": {},
   "outputs": [
    {
     "data": {
      "text/plain": [
       "['Type', 'AirBags', 'DriveTrain', 'Cylinders', 'Man.trans.avail', 'Origin']"
      ]
     },
     "execution_count": 101,
     "metadata": {},
     "output_type": "execute_result"
    }
   ],
   "source": [
    "cat"
   ]
  },
  {
   "cell_type": "code",
   "execution_count": 102,
   "id": "b20988d4",
   "metadata": {},
   "outputs": [],
   "source": [
    "nrows = round(len(cat)/3,0)+1"
   ]
  },
  {
   "cell_type": "code",
   "execution_count": 103,
   "id": "543c152e",
   "metadata": {},
   "outputs": [
    {
     "data": {
      "image/png": "[encoded data removed]",
      "text/plain": [
       "<Figure size 1440x1440 with 6 Axes>"
      ]
     },
     "metadata": {},
     "output_type": "display_data"
    }
   ],
   "source": [
    "import matplotlib.pyplot as plt\n",
    "plt.figure(figsize=(20,20))\n",
    "w = 1\n",
    "for i in cat:\n",
    "    plt.subplot(nrows,3,w)\n",
    "    A[i].value_counts().plot(kind=\"pie\")\n",
    "    w = w + 1\n"
   ]
  },
  {
   "cell_type": "code",
   "execution_count": 104,
   "id": "5a10cbb6",
   "metadata": {},
   "outputs": [
    {
     "data": {
      "image/png": "[encoded data removed]",
      "text/plain": [
       "<Figure size 1440x1440 with 6 Axes>"
      ]
     },
     "metadata": {
      "needs_background": "light"
     },
     "output_type": "display_data"
    }
   ],
   "source": [
    "import matplotlib.pyplot as plt\n",
    "plt.figure(figsize=(20,20))\n",
    "w = 1\n",
    "for i in cat:\n",
    "    plt.subplot(nrows,3,w)\n",
    "    A[i].value_counts().plot(kind=\"barh\")\n",
    "    w = w + 1"
   ]
  },
  {
   "cell_type": "code",
   "execution_count": 105,
   "id": "0c35049c",
   "metadata": {},
   "outputs": [
    {
     "data": {
      "image/png": "[encoded data removed]",
      "text/plain": [
       "<Figure size 1440x1440 with 6 Axes>"
      ]
     },
     "metadata": {
      "needs_background": "light"
     },
     "output_type": "display_data"
    }
   ],
   "source": [
    "import matplotlib.pyplot as plt\n",
    "plt.figure(figsize=(20,20))\n",
    "w = 1\n",
    "for i in cat:\n",
    "    plt.subplot(nrows,3,w)\n",
    "    A[i].value_counts().plot(kind=\"bar\")\n",
    "    w = w + 1"
   ]
  },
  {
   "cell_type": "code",
   "execution_count": 112,
   "id": "41336808",
   "metadata": {},
   "outputs": [],
   "source": [
    "def ANOVA(df,cat,con):\n",
    "    from pandas import DataFrame\n",
    "    from statsmodels.api import OLS\n",
    "    from statsmodels.formula.api import ols\n",
    "    rel = con + \" ~ \" + cat\n",
    "    model = ols(rel,df).fit()\n",
    "    from statsmodels.stats.anova import anova_lm\n",
    "    anova_results = anova_lm(model)\n",
    "    Q = DataFrame(anova_results)\n",
    "    a = Q['PR(>F)'][cat]\n",
    "    return round(a,3)"
   ]
  },
  {
   "cell_type": "code",
   "execution_count": 113,
   "id": "a0d90d59",
   "metadata": {},
   "outputs": [
    {
     "data": {
      "text/plain": [
       "0.337"
      ]
     },
     "execution_count": 113,
     "metadata": {},
     "output_type": "execute_result"
    }
   ],
   "source": [
    "ANOVA(A,\"Origin\",\"Price\")"
   ]
  },
  {
   "cell_type": "code",
   "execution_count": 114,
   "id": "8e137f2e",
   "metadata": {},
   "outputs": [
    {
     "data": {
      "text/html": [
       "<div>\n",
       "<style scoped>\n",
       "    .dataframe tbody tr th:only-of-type {\n",
       "        vertical-align: middle;\n",
       "    }\n",
       "\n",
       "    .dataframe tbody tr th {\n",
       "        vertical-align: top;\n",
       "    }\n",
       "\n",
       "    .dataframe thead th {\n",
       "        text-align: right;\n",
       "    }\n",
       "</style>\n",
       "<table border=\"1\" class=\"dataframe\">\n",
       "  <thead>\n",
       "    <tr style=\"text-align: right;\">\n",
       "      <th>Origin</th>\n",
       "      <th>USA</th>\n",
       "      <th>non-USA</th>\n",
       "    </tr>\n",
       "    <tr>\n",
       "      <th>Type</th>\n",
       "      <th></th>\n",
       "      <th></th>\n",
       "    </tr>\n",
       "  </thead>\n",
       "  <tbody>\n",
       "    <tr>\n",
       "      <th>Compact</th>\n",
       "      <td>7</td>\n",
       "      <td>9</td>\n",
       "    </tr>\n",
       "    <tr>\n",
       "      <th>Large</th>\n",
       "      <td>11</td>\n",
       "      <td>0</td>\n",
       "    </tr>\n",
       "    <tr>\n",
       "      <th>Midsize</th>\n",
       "      <td>10</td>\n",
       "      <td>12</td>\n",
       "    </tr>\n",
       "    <tr>\n",
       "      <th>Small</th>\n",
       "      <td>7</td>\n",
       "      <td>14</td>\n",
       "    </tr>\n",
       "    <tr>\n",
       "      <th>Sporty</th>\n",
       "      <td>8</td>\n",
       "      <td>6</td>\n",
       "    </tr>\n",
       "    <tr>\n",
       "      <th>Van</th>\n",
       "      <td>5</td>\n",
       "      <td>4</td>\n",
       "    </tr>\n",
       "  </tbody>\n",
       "</table>\n",
       "</div>"
      ],
      "text/plain": [
       "Origin   USA  non-USA\n",
       "Type                 \n",
       "Compact    7        9\n",
       "Large     11        0\n",
       "Midsize   10       12\n",
       "Small      7       14\n",
       "Sporty     8        6\n",
       "Van        5        4"
      ]
     },
     "execution_count": 114,
     "metadata": {},
     "output_type": "execute_result"
    }
   ],
   "source": [
    "pd.crosstab(A.Type,A.Origin)"
   ]
  },
  {
   "cell_type": "code",
   "execution_count": 115,
   "id": "8376eeec",
   "metadata": {},
   "outputs": [
    {
     "data": {
      "text/html": [
       "<div>\n",
       "<style scoped>\n",
       "    .dataframe tbody tr th:only-of-type {\n",
       "        vertical-align: middle;\n",
       "    }\n",
       "\n",
       "    .dataframe tbody tr th {\n",
       "        vertical-align: top;\n",
       "    }\n",
       "\n",
       "    .dataframe thead th {\n",
       "        text-align: right;\n",
       "    }\n",
       "</style>\n",
       "<table border=\"1\" class=\"dataframe\">\n",
       "  <thead>\n",
       "    <tr style=\"text-align: right;\">\n",
       "      <th>AirBags</th>\n",
       "      <th>Driver &amp; Passenger</th>\n",
       "      <th>Driver only</th>\n",
       "      <th>None</th>\n",
       "    </tr>\n",
       "    <tr>\n",
       "      <th>Type</th>\n",
       "      <th></th>\n",
       "      <th></th>\n",
       "      <th></th>\n",
       "    </tr>\n",
       "  </thead>\n",
       "  <tbody>\n",
       "    <tr>\n",
       "      <th>Compact</th>\n",
       "      <td>2</td>\n",
       "      <td>9</td>\n",
       "      <td>5</td>\n",
       "    </tr>\n",
       "    <tr>\n",
       "      <th>Large</th>\n",
       "      <td>3</td>\n",
       "      <td>8</td>\n",
       "      <td>0</td>\n",
       "    </tr>\n",
       "    <tr>\n",
       "      <th>Midsize</th>\n",
       "      <td>6</td>\n",
       "      <td>12</td>\n",
       "      <td>4</td>\n",
       "    </tr>\n",
       "    <tr>\n",
       "      <th>Small</th>\n",
       "      <td>0</td>\n",
       "      <td>5</td>\n",
       "      <td>16</td>\n",
       "    </tr>\n",
       "    <tr>\n",
       "      <th>Sporty</th>\n",
       "      <td>3</td>\n",
       "      <td>9</td>\n",
       "      <td>2</td>\n",
       "    </tr>\n",
       "    <tr>\n",
       "      <th>Van</th>\n",
       "      <td>0</td>\n",
       "      <td>3</td>\n",
       "      <td>6</td>\n",
       "    </tr>\n",
       "  </tbody>\n",
       "</table>\n",
       "</div>"
      ],
      "text/plain": [
       "AirBags  Driver & Passenger  Driver only  None\n",
       "Type                                          \n",
       "Compact                   2            9     5\n",
       "Large                     3            8     0\n",
       "Midsize                   6           12     4\n",
       "Small                     0            5    16\n",
       "Sporty                    3            9     2\n",
       "Van                       0            3     6"
      ]
     },
     "execution_count": 115,
     "metadata": {},
     "output_type": "execute_result"
    }
   ],
   "source": [
    "pd.crosstab(A.Type,A.AirBags)"
   ]
  },
  {
   "cell_type": "markdown",
   "id": "03a25304",
   "metadata": {},
   "source": [
    "# Define X and Y "
   ]
  },
  {
   "cell_type": "code",
   "execution_count": 74,
   "id": "724e7473",
   "metadata": {},
   "outputs": [],
   "source": [
    "Y = A[[\"Type\"]]\n",
    "X = A.drop(labels=[\"Type\"],axis=1)"
   ]
  },
  {
   "cell_type": "markdown",
   "id": "0d768d63",
   "metadata": {},
   "source": [
    "# Data preparation"
   ]
  },
  {
   "cell_type": "code",
   "execution_count": 8,
   "id": "b5424407",
   "metadata": {},
   "outputs": [],
   "source": [
    "import pandas as pd\n",
    "Xcat = pd.get_dummies(A[cat])\n",
    "from sklearn.preprocessing import StandardScaler\n",
    "ss = StandardScaler()\n",
    "Xcon = pd.DataFrame(ss.fit_transform(X[con]),columns=con)\n",
    "X = Xcon.join(Xcat)"
   ]
  },
  {
   "cell_type": "markdown",
   "id": "a4f8736a",
   "metadata": {},
   "source": [
    "# Divide the data in training and testing set"
   ]
  },
  {
   "cell_type": "code",
   "execution_count": 9,
   "id": "ffe37290",
   "metadata": {},
   "outputs": [],
   "source": [
    "from sklearn.model_selection import train_test_split\n",
    "xtrain,xtest,ytrain,ytest=train_test_split(X,Y,test_size=0.2,random_state=31)"
   ]
  },
  {
   "cell_type": "markdown",
   "id": "99264865",
   "metadata": {},
   "source": [
    "# Create a Model"
   ]
  },
  {
   "cell_type": "code",
   "execution_count": 10,
   "id": "e8e4e4b6",
   "metadata": {},
   "outputs": [],
   "source": [
    "from sklearn.tree import DecisionTreeClassifier\n",
    "dtc = DecisionTreeClassifier(random_state=21)\n",
    "model = dtc.fit(xtrain,ytrain)"
   ]
  },
  {
   "cell_type": "markdown",
   "id": "66113fbf",
   "metadata": {},
   "source": [
    "# predict() method"
   ]
  },
  {
   "cell_type": "code",
   "execution_count": 11,
   "id": "dd7c1845",
   "metadata": {},
   "outputs": [],
   "source": [
    "pred_tr = model.predict(xtrain)\n",
    "pred_ts = model.predict(xtest)"
   ]
  },
  {
   "cell_type": "code",
   "execution_count": 12,
   "id": "28955771",
   "metadata": {},
   "outputs": [
    {
     "data": {
      "text/html": [
       "<div>\n",
       "<style scoped>\n",
       "    .dataframe tbody tr th:only-of-type {\n",
       "        vertical-align: middle;\n",
       "    }\n",
       "\n",
       "    .dataframe tbody tr th {\n",
       "        vertical-align: top;\n",
       "    }\n",
       "\n",
       "    .dataframe thead th {\n",
       "        text-align: right;\n",
       "    }\n",
       "</style>\n",
       "<table border=\"1\" class=\"dataframe\">\n",
       "  <thead>\n",
       "    <tr style=\"text-align: right;\">\n",
       "      <th></th>\n",
       "      <th>Type</th>\n",
       "      <th>Predicted_Type_in_training</th>\n",
       "    </tr>\n",
       "  </thead>\n",
       "  <tbody>\n",
       "    <tr>\n",
       "      <th>15</th>\n",
       "      <td>Van</td>\n",
       "      <td>Van</td>\n",
       "    </tr>\n",
       "    <tr>\n",
       "      <th>20</th>\n",
       "      <td>Compact</td>\n",
       "      <td>Compact</td>\n",
       "    </tr>\n",
       "    <tr>\n",
       "      <th>37</th>\n",
       "      <td>Large</td>\n",
       "      <td>Large</td>\n",
       "    </tr>\n",
       "    <tr>\n",
       "      <th>22</th>\n",
       "      <td>Small</td>\n",
       "      <td>Small</td>\n",
       "    </tr>\n",
       "    <tr>\n",
       "      <th>33</th>\n",
       "      <td>Sporty</td>\n",
       "      <td>Sporty</td>\n",
       "    </tr>\n",
       "    <tr>\n",
       "      <th>74</th>\n",
       "      <td>Sporty</td>\n",
       "      <td>Sporty</td>\n",
       "    </tr>\n",
       "    <tr>\n",
       "      <th>70</th>\n",
       "      <td>Large</td>\n",
       "      <td>Large</td>\n",
       "    </tr>\n",
       "    <tr>\n",
       "      <th>19</th>\n",
       "      <td>Large</td>\n",
       "      <td>Large</td>\n",
       "    </tr>\n",
       "    <tr>\n",
       "      <th>50</th>\n",
       "      <td>Midsize</td>\n",
       "      <td>Midsize</td>\n",
       "    </tr>\n",
       "    <tr>\n",
       "      <th>21</th>\n",
       "      <td>Large</td>\n",
       "      <td>Large</td>\n",
       "    </tr>\n",
       "  </tbody>\n",
       "</table>\n",
       "</div>"
      ],
      "text/plain": [
       "       Type Predicted_Type_in_training\n",
       "15      Van                        Van\n",
       "20  Compact                    Compact\n",
       "37    Large                      Large\n",
       "22    Small                      Small\n",
       "33   Sporty                     Sporty\n",
       "74   Sporty                     Sporty\n",
       "70    Large                      Large\n",
       "19    Large                      Large\n",
       "50  Midsize                    Midsize\n",
       "21    Large                      Large"
      ]
     },
     "execution_count": 12,
     "metadata": {},
     "output_type": "execute_result"
    }
   ],
   "source": [
    "E = ytrain[[\"Type\"]]\n",
    "E['Predicted_Type_in_training']=pred_tr\n",
    "E.head(10)"
   ]
  },
  {
   "cell_type": "code",
   "execution_count": 13,
   "id": "32531e7e",
   "metadata": {},
   "outputs": [
    {
     "data": {
      "text/html": [
       "<div>\n",
       "<style scoped>\n",
       "    .dataframe tbody tr th:only-of-type {\n",
       "        vertical-align: middle;\n",
       "    }\n",
       "\n",
       "    .dataframe tbody tr th {\n",
       "        vertical-align: top;\n",
       "    }\n",
       "\n",
       "    .dataframe thead th {\n",
       "        text-align: right;\n",
       "    }\n",
       "</style>\n",
       "<table border=\"1\" class=\"dataframe\">\n",
       "  <thead>\n",
       "    <tr style=\"text-align: right;\">\n",
       "      <th></th>\n",
       "      <th>Type</th>\n",
       "      <th>Predicted_Type_in_Testing</th>\n",
       "    </tr>\n",
       "  </thead>\n",
       "  <tbody>\n",
       "    <tr>\n",
       "      <th>51</th>\n",
       "      <td>Large</td>\n",
       "      <td>Midsize</td>\n",
       "    </tr>\n",
       "    <tr>\n",
       "      <th>8</th>\n",
       "      <td>Midsize</td>\n",
       "      <td>Large</td>\n",
       "    </tr>\n",
       "    <tr>\n",
       "      <th>36</th>\n",
       "      <td>Midsize</td>\n",
       "      <td>Midsize</td>\n",
       "    </tr>\n",
       "    <tr>\n",
       "      <th>72</th>\n",
       "      <td>Small</td>\n",
       "      <td>Small</td>\n",
       "    </tr>\n",
       "    <tr>\n",
       "      <th>76</th>\n",
       "      <td>Large</td>\n",
       "      <td>Midsize</td>\n",
       "    </tr>\n",
       "    <tr>\n",
       "      <th>0</th>\n",
       "      <td>Small</td>\n",
       "      <td>Compact</td>\n",
       "    </tr>\n",
       "    <tr>\n",
       "      <th>34</th>\n",
       "      <td>Sporty</td>\n",
       "      <td>Midsize</td>\n",
       "    </tr>\n",
       "    <tr>\n",
       "      <th>62</th>\n",
       "      <td>Midsize</td>\n",
       "      <td>Midsize</td>\n",
       "    </tr>\n",
       "    <tr>\n",
       "      <th>7</th>\n",
       "      <td>Large</td>\n",
       "      <td>Large</td>\n",
       "    </tr>\n",
       "    <tr>\n",
       "      <th>69</th>\n",
       "      <td>Van</td>\n",
       "      <td>Van</td>\n",
       "    </tr>\n",
       "  </tbody>\n",
       "</table>\n",
       "</div>"
      ],
      "text/plain": [
       "       Type Predicted_Type_in_Testing\n",
       "51    Large                   Midsize\n",
       "8   Midsize                     Large\n",
       "36  Midsize                   Midsize\n",
       "72    Small                     Small\n",
       "76    Large                   Midsize\n",
       "0     Small                   Compact\n",
       "34   Sporty                   Midsize\n",
       "62  Midsize                   Midsize\n",
       "7     Large                     Large\n",
       "69      Van                       Van"
      ]
     },
     "execution_count": 13,
     "metadata": {},
     "output_type": "execute_result"
    }
   ],
   "source": [
    "F = ytest[[\"Type\"]]\n",
    "F['Predicted_Type_in_Testing']=pred_ts\n",
    "F.head(10)"
   ]
  },
  {
   "cell_type": "markdown",
   "id": "4f103e0b",
   "metadata": {},
   "source": [
    "# Find error| loss"
   ]
  },
  {
   "cell_type": "code",
   "execution_count": 14,
   "id": "5d43d189",
   "metadata": {},
   "outputs": [
    {
     "data": {
      "text/plain": [
       "1.0"
      ]
     },
     "execution_count": 14,
     "metadata": {},
     "output_type": "execute_result"
    }
   ],
   "source": [
    "# accuracy score : How many correct/Total\n",
    "\n",
    "from sklearn.metrics import accuracy_score\n",
    "accuracy_score(ytrain,pred_tr)"
   ]
  },
  {
   "cell_type": "code",
   "execution_count": 15,
   "id": "815f8cbf",
   "metadata": {},
   "outputs": [
    {
     "data": {
      "text/plain": [
       "0.47368421052631576"
      ]
     },
     "execution_count": 15,
     "metadata": {},
     "output_type": "execute_result"
    }
   ],
   "source": [
    "accuracy_score(ytest,pred_ts)"
   ]
  },
  {
   "cell_type": "markdown",
   "id": "b5be3337",
   "metadata": {},
   "source": [
    "# Logistic Regression"
   ]
  },
  {
   "cell_type": "code",
   "execution_count": 139,
   "id": "9b1ac103",
   "metadata": {},
   "outputs": [
    {
     "name": "stdout",
     "output_type": "stream",
     "text": [
      "Training Accuracy:  1.0\n",
      "Testing Accuracy:  0.7368421052631579\n"
     ]
    }
   ],
   "source": [
    "from sklearn.linear_model import LogisticRegression\n",
    "lr = LogisticRegression()\n",
    "model = lr.fit(xtrain,ytrain)\n",
    "pred_tr = model.predict(xtrain)\n",
    "pred_ts = model.predict(xtest)\n",
    "from sklearn.metrics import accuracy_score\n",
    "print(\"Training Accuracy: \",accuracy_score(ytrain,pred_tr))\n",
    "print(\"Testing Accuracy: \",accuracy_score(ytest,pred_ts))"
   ]
  },
  {
   "cell_type": "markdown",
   "id": "a8d064a5",
   "metadata": {},
   "source": [
    "# Simple tree"
   ]
  },
  {
   "cell_type": "code",
   "execution_count": 16,
   "id": "5fdda7f2",
   "metadata": {},
   "outputs": [
    {
     "name": "stdout",
     "output_type": "stream",
     "text": [
      "Training Accuracy:  1.0\n",
      "Testing Accuracy:  0.47368421052631576\n"
     ]
    }
   ],
   "source": [
    "from sklearn.tree import DecisionTreeClassifier\n",
    "dtc = DecisionTreeClassifier(random_state=21)\n",
    "model = dtc.fit(xtrain,ytrain)\n",
    "pred_tr = model.predict(xtrain)\n",
    "pred_ts = model.predict(xtest)\n",
    "from sklearn.metrics import accuracy_score\n",
    "print(\"Training Accuracy: \",accuracy_score(ytrain,pred_tr))\n",
    "print(\"Testing Accuracy: \",accuracy_score(ytest,pred_ts))"
   ]
  },
  {
   "cell_type": "markdown",
   "id": "2ff73973",
   "metadata": {},
   "source": [
    "# pruned_tree based on max depth"
   ]
  },
  {
   "cell_type": "code",
   "execution_count": 17,
   "id": "0215aca4",
   "metadata": {},
   "outputs": [
    {
     "name": "stdout",
     "output_type": "stream",
     "text": [
      "Training Accuracy: 0.8918918918918919\n",
      "Testing Accuracy: 0.5263157894736842\n"
     ]
    }
   ],
   "source": [
    "from sklearn.tree import DecisionTreeClassifier\n",
    "dtc = DecisionTreeClassifier(random_state=21,max_depth=4)\n",
    "model = dtc.fit(xtrain,ytrain)\n",
    "pred_tr = model.predict(xtrain)\n",
    "pred_ts = model.predict(xtest)\n",
    "from sklearn.metrics import accuracy_score\n",
    "print(\"Training Accuracy:\",accuracy_score(ytrain,pred_tr))\n",
    "print(\"Testing Accuracy:\",accuracy_score(ytest,pred_ts))"
   ]
  },
  {
   "cell_type": "code",
   "execution_count": 18,
   "id": "f1104a16",
   "metadata": {},
   "outputs": [
    {
     "data": {
      "text/plain": [
       "{'max_depth': 6}"
      ]
     },
     "execution_count": 18,
     "metadata": {},
     "output_type": "execute_result"
    }
   ],
   "source": [
    "from sklearn.model_selection import GridSearchCV\n",
    "dtc = DecisionTreeClassifier(random_state=21)\n",
    "tg = {\"max_depth\":range(1,20,1)}\n",
    "cv = GridSearchCV(dtc,tg,scoring=\"accuracy\",cv=3)\n",
    "cvmodel = cv.fit(xtrain,ytrain)\n",
    "cvmodel.best_params_"
   ]
  },
  {
   "cell_type": "code",
   "execution_count": 19,
   "id": "5ffac5e1",
   "metadata": {},
   "outputs": [
    {
     "name": "stdout",
     "output_type": "stream",
     "text": [
      "Training Accuracy: 1.0\n",
      "Testing Accuracy: 0.47368421052631576\n"
     ]
    }
   ],
   "source": [
    "from sklearn.tree import DecisionTreeClassifier\n",
    "dtc = DecisionTreeClassifier(random_state=21,max_depth=6)\n",
    "model = dtc.fit(xtrain,ytrain)\n",
    "pred_tr = model.predict(xtrain)\n",
    "pred_ts = model.predict(xtest)\n",
    "from sklearn.metrics import accuracy_score\n",
    "print(\"Training Accuracy:\",accuracy_score(ytrain,pred_tr))\n",
    "print(\"Testing Accuracy:\",accuracy_score(ytest,pred_ts))"
   ]
  },
  {
   "cell_type": "markdown",
   "id": "46fe07df",
   "metadata": {},
   "source": [
    "# pruned tree based on min samples at leaf"
   ]
  },
  {
   "cell_type": "code",
   "execution_count": 20,
   "id": "36832c29",
   "metadata": {},
   "outputs": [
    {
     "data": {
      "text/plain": [
       "{'min_samples_leaf': 5}"
      ]
     },
     "execution_count": 20,
     "metadata": {},
     "output_type": "execute_result"
    }
   ],
   "source": [
    "from sklearn.model_selection import GridSearchCV\n",
    "dtc = DecisionTreeClassifier(random_state=21)\n",
    "tg = {\"min_samples_leaf\":range(1,20,1)}\n",
    "cv = GridSearchCV(dtc,tg,scoring=\"accuracy\",cv=3)\n",
    "cvmodel = cv.fit(xtrain,ytrain)\n",
    "cvmodel.best_params_"
   ]
  },
  {
   "cell_type": "code",
   "execution_count": 21,
   "id": "3c175711",
   "metadata": {},
   "outputs": [
    {
     "name": "stdout",
     "output_type": "stream",
     "text": [
      "Training Accuracy: 0.9054054054054054\n",
      "Testing Accuracy: 0.47368421052631576\n"
     ]
    }
   ],
   "source": [
    "from sklearn.tree import DecisionTreeClassifier\n",
    "dtc = DecisionTreeClassifier(random_state=21,min_samples_leaf=5)\n",
    "model = dtc.fit(xtrain,ytrain)\n",
    "pred_tr = model.predict(xtrain)\n",
    "pred_ts = model.predict(xtest)\n",
    "from sklearn.metrics import accuracy_score\n",
    "print(\"Training Accuracy:\",accuracy_score(ytrain,pred_tr))\n",
    "print(\"Testing Accuracy:\",accuracy_score(ytest,pred_ts))"
   ]
  },
  {
   "cell_type": "markdown",
   "id": "029953da",
   "metadata": {},
   "source": [
    "# pruned tree based on min samples used for splitting"
   ]
  },
  {
   "cell_type": "code",
   "execution_count": 22,
   "id": "5c84729e",
   "metadata": {},
   "outputs": [
    {
     "data": {
      "text/plain": [
       "{'min_samples_split': 2}"
      ]
     },
     "execution_count": 22,
     "metadata": {},
     "output_type": "execute_result"
    }
   ],
   "source": [
    "from sklearn.model_selection import GridSearchCV\n",
    "dtc = DecisionTreeClassifier(random_state=21)\n",
    "tg = {\"min_samples_split\":range(1,20,1)}\n",
    "cv = GridSearchCV(dtc,tg,scoring=\"accuracy\",cv=3)\n",
    "cvmodel = cv.fit(xtrain,ytrain)\n",
    "cvmodel.best_params_"
   ]
  },
  {
   "cell_type": "code",
   "execution_count": 23,
   "id": "de8a56a2",
   "metadata": {},
   "outputs": [
    {
     "name": "stdout",
     "output_type": "stream",
     "text": [
      "Training Accuracy: 1.0\n",
      "Testing Accuracy: 0.47368421052631576\n"
     ]
    }
   ],
   "source": [
    "from sklearn.tree import DecisionTreeClassifier\n",
    "dtc = DecisionTreeClassifier(random_state=21,min_samples_split=2)\n",
    "model = dtc.fit(xtrain,ytrain)\n",
    "pred_tr = model.predict(xtrain)\n",
    "pred_ts = model.predict(xtest)\n",
    "from sklearn.metrics import accuracy_score\n",
    "print(\"Training Accuracy:\",accuracy_score(ytrain,pred_tr))\n",
    "print(\"Testing Accuracy:\",accuracy_score(ytest,pred_ts))"
   ]
  },
  {
   "cell_type": "code",
   "execution_count": 24,
   "id": "4c9bfd77",
   "metadata": {},
   "outputs": [
    {
     "name": "stdout",
     "output_type": "stream",
     "text": [
      "------------------ 2 -------------------\n",
      "Training Accuracy:  1.0\n",
      "Testing Accuracy:  0.47368421052631576\n",
      "------------------ 3 -------------------\n",
      "Training Accuracy:  1.0\n",
      "Testing Accuracy:  0.47368421052631576\n",
      "------------------ 4 -------------------\n",
      "Training Accuracy:  0.9864864864864865\n",
      "Testing Accuracy:  0.47368421052631576\n",
      "------------------ 5 -------------------\n",
      "Training Accuracy:  0.9864864864864865\n",
      "Testing Accuracy:  0.47368421052631576\n",
      "------------------ 6 -------------------\n",
      "Training Accuracy:  0.9864864864864865\n",
      "Testing Accuracy:  0.47368421052631576\n",
      "------------------ 7 -------------------\n",
      "Training Accuracy:  0.9864864864864865\n",
      "Testing Accuracy:  0.47368421052631576\n",
      "------------------ 8 -------------------\n",
      "Training Accuracy:  0.9864864864864865\n",
      "Testing Accuracy:  0.47368421052631576\n",
      "------------------ 9 -------------------\n",
      "Training Accuracy:  0.9864864864864865\n",
      "Testing Accuracy:  0.47368421052631576\n",
      "------------------ 10 -------------------\n",
      "Training Accuracy:  0.9594594594594594\n",
      "Testing Accuracy:  0.47368421052631576\n",
      "------------------ 11 -------------------\n",
      "Training Accuracy:  0.9594594594594594\n",
      "Testing Accuracy:  0.47368421052631576\n",
      "------------------ 12 -------------------\n",
      "Training Accuracy:  0.9594594594594594\n",
      "Testing Accuracy:  0.47368421052631576\n",
      "------------------ 13 -------------------\n",
      "Training Accuracy:  0.9594594594594594\n",
      "Testing Accuracy:  0.47368421052631576\n",
      "------------------ 14 -------------------\n",
      "Training Accuracy:  0.9594594594594594\n",
      "Testing Accuracy:  0.47368421052631576\n",
      "------------------ 15 -------------------\n",
      "Training Accuracy:  0.9594594594594594\n",
      "Testing Accuracy:  0.47368421052631576\n",
      "------------------ 16 -------------------\n",
      "Training Accuracy:  0.918918918918919\n",
      "Testing Accuracy:  0.47368421052631576\n",
      "------------------ 17 -------------------\n",
      "Training Accuracy:  0.918918918918919\n",
      "Testing Accuracy:  0.47368421052631576\n",
      "------------------ 18 -------------------\n",
      "Training Accuracy:  0.9054054054054054\n",
      "Testing Accuracy:  0.47368421052631576\n",
      "------------------ 19 -------------------\n",
      "Training Accuracy:  0.9054054054054054\n",
      "Testing Accuracy:  0.47368421052631576\n"
     ]
    }
   ],
   "source": [
    "for i in range(2,20,1):\n",
    "    from sklearn.tree import DecisionTreeClassifier\n",
    "    dtc = DecisionTreeClassifier(random_state=21,min_samples_split=i)\n",
    "    model = dtc.fit(xtrain,ytrain)\n",
    "    pred_tr = model.predict(xtrain)\n",
    "    pred_ts = model.predict(xtest)\n",
    "    from sklearn.metrics import accuracy_score\n",
    "    print(\"------------------\",i,\"-------------------\")\n",
    "    print(\"Training Accuracy: \",accuracy_score(ytrain,pred_tr))\n",
    "    print(\"Testing Accuracy: \",accuracy_score(ytest,pred_ts))"
   ]
  },
  {
   "cell_type": "code",
   "execution_count": 25,
   "id": "0b85a76b",
   "metadata": {},
   "outputs": [
    {
     "name": "stdout",
     "output_type": "stream",
     "text": [
      "------------------ 2 -------------------\n",
      "Training Accuracy:  1.0\n",
      "Testing Accuracy:  0.47\n",
      "------------------ 3 -------------------\n",
      "Training Accuracy:  1.0\n",
      "Testing Accuracy:  0.47\n",
      "------------------ 4 -------------------\n",
      "Training Accuracy:  0.99\n",
      "Testing Accuracy:  0.47\n",
      "------------------ 5 -------------------\n",
      "Training Accuracy:  0.99\n",
      "Testing Accuracy:  0.47\n",
      "------------------ 6 -------------------\n",
      "Training Accuracy:  0.99\n",
      "Testing Accuracy:  0.47\n",
      "------------------ 7 -------------------\n",
      "Training Accuracy:  0.99\n",
      "Testing Accuracy:  0.47\n",
      "------------------ 8 -------------------\n",
      "Training Accuracy:  0.99\n",
      "Testing Accuracy:  0.47\n",
      "------------------ 9 -------------------\n",
      "Training Accuracy:  0.99\n",
      "Testing Accuracy:  0.47\n",
      "------------------ 10 -------------------\n",
      "Training Accuracy:  0.96\n",
      "Testing Accuracy:  0.47\n",
      "------------------ 11 -------------------\n",
      "Training Accuracy:  0.96\n",
      "Testing Accuracy:  0.47\n",
      "------------------ 12 -------------------\n",
      "Training Accuracy:  0.96\n",
      "Testing Accuracy:  0.47\n",
      "------------------ 13 -------------------\n",
      "Training Accuracy:  0.96\n",
      "Testing Accuracy:  0.47\n",
      "------------------ 14 -------------------\n",
      "Training Accuracy:  0.96\n",
      "Testing Accuracy:  0.47\n",
      "------------------ 15 -------------------\n",
      "Training Accuracy:  0.96\n",
      "Testing Accuracy:  0.47\n",
      "------------------ 16 -------------------\n",
      "Training Accuracy:  0.92\n",
      "Testing Accuracy:  0.47\n",
      "------------------ 17 -------------------\n",
      "Training Accuracy:  0.92\n",
      "Testing Accuracy:  0.47\n",
      "------------------ 18 -------------------\n",
      "Training Accuracy:  0.91\n",
      "Testing Accuracy:  0.47\n",
      "------------------ 19 -------------------\n",
      "Training Accuracy:  0.91\n",
      "Testing Accuracy:  0.47\n"
     ]
    }
   ],
   "source": [
    "for i in range(2,20,1):\n",
    "    from sklearn.tree import DecisionTreeClassifier\n",
    "    dtc = DecisionTreeClassifier(random_state=21,min_samples_split=i)\n",
    "    model = dtc.fit(xtrain,ytrain)\n",
    "    pred_tr = model.predict(xtrain)\n",
    "    pred_ts = model.predict(xtest)\n",
    "    from sklearn.metrics import accuracy_score\n",
    "    print(\"------------------\",i,\"-------------------\")\n",
    "    print(\"Training Accuracy: \",round(accuracy_score(ytrain,pred_tr),2))\n",
    "    print(\"Testing Accuracy: \",round(accuracy_score(ytest,pred_ts),2))"
   ]
  },
  {
   "cell_type": "code",
   "execution_count": 26,
   "id": "a0d3983c",
   "metadata": {},
   "outputs": [
    {
     "name": "stdout",
     "output_type": "stream",
     "text": [
      "------------------ 2 -------------------\n",
      "Training Accuracy:  0.96\n",
      "Testing Accuracy:  0.37\n",
      "------------------ 3 -------------------\n",
      "Training Accuracy:  0.95\n",
      "Testing Accuracy:  0.47\n",
      "------------------ 4 -------------------\n",
      "Training Accuracy:  0.92\n",
      "Testing Accuracy:  0.47\n",
      "------------------ 5 -------------------\n",
      "Training Accuracy:  0.91\n",
      "Testing Accuracy:  0.47\n",
      "------------------ 6 -------------------\n",
      "Training Accuracy:  0.91\n",
      "Testing Accuracy:  0.47\n",
      "------------------ 7 -------------------\n",
      "Training Accuracy:  0.91\n",
      "Testing Accuracy:  0.47\n",
      "------------------ 8 -------------------\n",
      "Training Accuracy:  0.91\n",
      "Testing Accuracy:  0.47\n",
      "------------------ 9 -------------------\n",
      "Training Accuracy:  0.89\n",
      "Testing Accuracy:  0.63\n",
      "------------------ 10 -------------------\n",
      "Training Accuracy:  0.8\n",
      "Testing Accuracy:  0.42\n",
      "------------------ 11 -------------------\n",
      "Training Accuracy:  0.76\n",
      "Testing Accuracy:  0.32\n",
      "------------------ 12 -------------------\n",
      "Training Accuracy:  0.74\n",
      "Testing Accuracy:  0.42\n",
      "------------------ 13 -------------------\n",
      "Training Accuracy:  0.66\n",
      "Testing Accuracy:  0.37\n",
      "------------------ 14 -------------------\n",
      "Training Accuracy:  0.66\n",
      "Testing Accuracy:  0.37\n",
      "------------------ 15 -------------------\n",
      "Training Accuracy:  0.66\n",
      "Testing Accuracy:  0.37\n",
      "------------------ 16 -------------------\n",
      "Training Accuracy:  0.66\n",
      "Testing Accuracy:  0.37\n",
      "------------------ 17 -------------------\n",
      "Training Accuracy:  0.68\n",
      "Testing Accuracy:  0.58\n",
      "------------------ 18 -------------------\n",
      "Training Accuracy:  0.58\n",
      "Testing Accuracy:  0.53\n",
      "------------------ 19 -------------------\n",
      "Training Accuracy:  0.58\n",
      "Testing Accuracy:  0.53\n"
     ]
    }
   ],
   "source": [
    "for i in range(2,20,1):\n",
    "    from sklearn.tree import DecisionTreeClassifier\n",
    "    dtc = DecisionTreeClassifier(random_state=21,min_samples_leaf=i)\n",
    "    model = dtc.fit(xtrain,ytrain)\n",
    "    pred_tr = model.predict(xtrain)\n",
    "    pred_ts = model.predict(xtest)\n",
    "    from sklearn.metrics import accuracy_score\n",
    "    print(\"------------------\",i,\"-------------------\")\n",
    "    print(\"Training Accuracy: \",round(accuracy_score(ytrain,pred_tr),2))\n",
    "    print(\"Testing Accuracy: \",round(accuracy_score(ytest,pred_ts),2))"
   ]
  },
  {
   "cell_type": "code",
   "execution_count": null,
   "id": "fb70a5bd",
   "metadata": {},
   "outputs": [],
   "source": []
  }
 ],
 "metadata": {
  "kernelspec": {
   "display_name": "Python 3",
   "language": "python",
   "name": "python3"
  },
  "language_info": {
   "codemirror_mode": {
    "name": "ipython",
    "version": 3
   },
   "file_extension": ".py",
   "mimetype": "text/x-python",
   "name": "python",
   "nbconvert_exporter": "python",
   "pygments_lexer": "ipython3",
   "version": "3.8.8"
  }
 },
 "nbformat": 4,
 "nbformat_minor": 5
}
